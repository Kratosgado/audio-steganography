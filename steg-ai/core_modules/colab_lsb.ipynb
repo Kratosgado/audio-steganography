{
  "nbformat": 4,
  "nbformat_minor": 0,
  "metadata": {
    "colab": {
      "provenance": [],
      "authorship_tag": "ABX9TyNa4H85GppcrIYzZH/7sER2",
      "include_colab_link": true
    },
    "kernelspec": {
      "name": "python3",
      "display_name": "Python 3"
    },
    "language_info": {
      "name": "python"
    }
  },
  "cells": [
    {
      "cell_type": "markdown",
      "metadata": {
        "id": "view-in-github",
        "colab_type": "text"
      },
      "source": [
        "<a href=\"https://colab.research.google.com/github/Kratosgado/audio-steganography/blob/from-claude/steg-ai/core_modules/colab_lsb.ipynb\" target=\"_parent\"><img src=\"https://colab.research.google.com/assets/colab-badge.svg\" alt=\"Open In Colab\"/></a>"
      ]
    },
    {
      "cell_type": "code",
      "execution_count": 7,
      "metadata": {
        "colab": {
          "base_uri": "https://localhost:8080/",
          "height": 350
        },
        "id": "Wqye3_hh4pdd",
        "outputId": "2ded43eb-1fa4-4f83-c27c-2434e7bb6efb"
      },
      "outputs": [
        {
          "output_type": "error",
          "ename": "TypeError",
          "evalue": "ufunc 'bitwise_and' not supported for the input types, and the inputs could not be safely coerced to any supported types according to the casting rule ''safe''",
          "traceback": [
            "\u001b[0;31m---------------------------------------------------------------------------\u001b[0m",
            "\u001b[0;31mTypeError\u001b[0m                                 Traceback (most recent call last)",
            "\u001b[0;32m<ipython-input-7-30bce235e5f0>\u001b[0m in \u001b[0;36m<cell line: 0>\u001b[0;34m()\u001b[0m\n\u001b[1;32m    110\u001b[0m     \u001b[0;31m# Embed a secret message\u001b[0m\u001b[0;34m\u001b[0m\u001b[0;34m\u001b[0m\u001b[0m\n\u001b[1;32m    111\u001b[0m     \u001b[0msecret_message\u001b[0m \u001b[0;34m=\u001b[0m \u001b[0;34m\"Hello, Hidden World!\"\u001b[0m\u001b[0;34m\u001b[0m\u001b[0;34m\u001b[0m\u001b[0m\n\u001b[0;32m--> 112\u001b[0;31m     \u001b[0mstego_audio\u001b[0m \u001b[0;34m=\u001b[0m \u001b[0mstego\u001b[0m\u001b[0;34m.\u001b[0m\u001b[0mlsb_embed\u001b[0m\u001b[0;34m(\u001b[0m\u001b[0moriginal_audio\u001b[0m\u001b[0;34m,\u001b[0m \u001b[0msecret_message\u001b[0m\u001b[0;34m)\u001b[0m\u001b[0;34m\u001b[0m\u001b[0;34m\u001b[0m\u001b[0m\n\u001b[0m\u001b[1;32m    113\u001b[0m \u001b[0;34m\u001b[0m\u001b[0m\n\u001b[1;32m    114\u001b[0m     \u001b[0;31m# Save stego audio\u001b[0m\u001b[0;34m\u001b[0m\u001b[0;34m\u001b[0m\u001b[0m\n",
            "\u001b[0;32m<ipython-input-7-30bce235e5f0>\u001b[0m in \u001b[0;36mlsb_embed\u001b[0;34m(self, audio_data, message)\u001b[0m\n\u001b[1;32m     49\u001b[0m         \u001b[0;31m# Embed each bit in LSB\u001b[0m\u001b[0;34m\u001b[0m\u001b[0;34m\u001b[0m\u001b[0m\n\u001b[1;32m     50\u001b[0m         \u001b[0;32mfor\u001b[0m \u001b[0mi\u001b[0m\u001b[0;34m,\u001b[0m \u001b[0mbit\u001b[0m \u001b[0;32min\u001b[0m \u001b[0menumerate\u001b[0m\u001b[0;34m(\u001b[0m\u001b[0mbinary_message\u001b[0m\u001b[0;34m)\u001b[0m\u001b[0;34m:\u001b[0m\u001b[0;34m\u001b[0m\u001b[0;34m\u001b[0m\u001b[0m\n\u001b[0;32m---> 51\u001b[0;31m             \u001b[0mstego_audio\u001b[0m\u001b[0;34m[\u001b[0m\u001b[0mi\u001b[0m\u001b[0;34m]\u001b[0m \u001b[0;34m=\u001b[0m \u001b[0;34m(\u001b[0m\u001b[0mstego_audio\u001b[0m\u001b[0;34m[\u001b[0m\u001b[0mi\u001b[0m\u001b[0;34m]\u001b[0m \u001b[0;34m&\u001b[0m \u001b[0;36m0xFE\u001b[0m\u001b[0;34m)\u001b[0m \u001b[0;34m|\u001b[0m \u001b[0mbit\u001b[0m\u001b[0;34m\u001b[0m\u001b[0;34m\u001b[0m\u001b[0m\n\u001b[0m\u001b[1;32m     52\u001b[0m \u001b[0;34m\u001b[0m\u001b[0m\n\u001b[1;32m     53\u001b[0m         \u001b[0;32mreturn\u001b[0m \u001b[0mstego_audio\u001b[0m\u001b[0;34m\u001b[0m\u001b[0;34m\u001b[0m\u001b[0m\n",
            "\u001b[0;31mTypeError\u001b[0m: ufunc 'bitwise_and' not supported for the input types, and the inputs could not be safely coerced to any supported types according to the casting rule ''safe''"
          ]
        }
      ],
      "source": [
        "import numpy as np\n",
        "import soundfile as sf\n",
        "import librosa\n",
        "from typing import Union, List\n",
        "\n",
        "class AudioSteganography:\n",
        "    def __init__(self, embedding_method='lsb'):\n",
        "        \"\"\"\n",
        "        Initialize steganography module with selected embedding method\n",
        "\n",
        "        Args:\n",
        "            embedding_method (str): Method of embedding ('lsb', 'spread_spectrum')\n",
        "        \"\"\"\n",
        "        self.embedding_method = embedding_method\n",
        "\n",
        "    def _text_to_binary(self, message: str) -> List[int]:\n",
        "        \"\"\"\n",
        "        Convert text message to binary representation\n",
        "\n",
        "        Args:\n",
        "            message (str): Input message to encode\n",
        "\n",
        "        Returns:\n",
        "            List[int]: Binary representation of message\n",
        "        \"\"\"\n",
        "        return [int(bit) for char in message\n",
        "                for bit in bin(ord(char))[2:].zfill(8)]\n",
        "\n",
        "    def lsb_embed(self, audio_data: np.ndarray, message: str) -> np.ndarray:\n",
        "        \"\"\"\n",
        "        Least Significant Bit embedding technique\n",
        "\n",
        "        Args:\n",
        "            audio_data (np.ndarray): Original audio numpy array\n",
        "            message (str): Message to embed\n",
        "\n",
        "        Returns:\n",
        "            np.ndarray: Audio with embedded message\n",
        "        \"\"\"\n",
        "        binary_message = self._text_to_binary(message)\n",
        "\n",
        "        # Ensure message can be embedded\n",
        "        if len(binary_message) > len(audio_data):\n",
        "            raise ValueError(\"Message too large for audio\")\n",
        "\n",
        "        # Create copy of audio to modify\n",
        "        stego_audio = audio_data.copy()\n",
        "\n",
        "        # Embed each bit in LSB\n",
        "        for i, bit in enumerate(binary_message):\n",
        "            stego_audio[i] = (stego_audio[i] & 0xFE) | bit\n",
        "\n",
        "        return stego_audio\n",
        "\n",
        "    def lsb_extract(self, stego_audio: np.ndarray, message_length: int) -> str:\n",
        "        \"\"\"\n",
        "        Extract hidden message using LSB technique\n",
        "\n",
        "        Args:\n",
        "            stego_audio (np.ndarray): Audio with embedded message\n",
        "            message_length (int): Expected message length in characters\n",
        "\n",
        "        Returns:\n",
        "            str: Extracted message\n",
        "        \"\"\"\n",
        "        # Extract least significant bits\n",
        "        extracted_bits = [stego_audio[i] & 1 for i in range(message_length * 8)]\n",
        "\n",
        "        # Convert bits back to characters\n",
        "        binary_str = ''.join(map(str, extracted_bits))\n",
        "        message = ''.join(\n",
        "            chr(int(binary_str[i:i+8], 2))\n",
        "            for i in range(0, len(binary_str), 8)\n",
        "        )\n",
        "\n",
        "        return message\n",
        "\n",
        "def load_audio(file_path: str) -> np.ndarray:\n",
        "    \"\"\"\n",
        "    Load audio file and convert to numpy array\n",
        "\n",
        "    Args:\n",
        "        file_path (str): Path to audio file\n",
        "\n",
        "    Returns:\n",
        "        np.ndarray: Audio data\n",
        "    \"\"\"\n",
        "    audio_data, sample_rate = librosa.load(file_path)\n",
        "    return audio_data\n",
        "\n",
        "def save_audio(audio_data: np.ndarray, file_path: str, sample_rate: int = 22050):\n",
        "    \"\"\"\n",
        "    Save audio data to file\n",
        "\n",
        "    Args:\n",
        "        audio_data (np.ndarray): Audio numpy array\n",
        "        file_path (str): Output file path\n",
        "        sample_rate (int): Audio sample rate\n",
        "    \"\"\"\n",
        "    sf.write(file_path, audio_data, sample_rate)\n",
        "\n",
        "# Example usage\n",
        "if __name__ == \"__main__\":\n",
        "    # Load an audio file\n",
        "    original_audio = load_audio('input_audio.wav')\n",
        "\n",
        "    # Initialize steganography module\n",
        "    stego = AudioSteganography()\n",
        "\n",
        "    # Embed a secret message\n",
        "    secret_message = \"Hello, Hidden World!\"\n",
        "    stego_audio = stego.lsb_embed(original_audio, secret_message)\n",
        "\n",
        "    # Save stego audio\n",
        "    save_audio(stego_audio, 'stego_audio.wav')\n",
        "\n",
        "    # Extract message\n",
        "    extracted_message = stego.lsb_extract(stego_audio, len(secret_message))\n",
        "    print(f\"Extracted Message: {extracted_message}\")"
      ]
    },
    {
      "cell_type": "code",
      "source": [
        "import numpy as np\n",
        "import soundfile as sf\n",
        "\n",
        "# Parameters for the sine wave\n",
        "frequency = 440  # Frequency in Hz\n",
        "duration = 5  # Duration in seconds\n",
        "sample_rate = 44100  # Sample rate in Hz\n",
        "amplitude = 0.5  # Amplitude of the wave\n",
        "\n",
        "# Generate time values\n",
        "time = np.linspace(0, duration, int(duration * sample_rate), False)\n",
        "\n",
        "# Generate sine wave\n",
        "audio_data = amplitude * np.sin(2 * np.pi * frequency * time)\n",
        "\n",
        "# Save as a WAV file\n",
        "sf.write('input_audio.wav', audio_data, sample_rate)\n",
        "\n",
        "print(\"Audio file 'input_audio.wav' generated.\")"
      ],
      "metadata": {
        "colab": {
          "base_uri": "https://localhost:8080/"
        },
        "id": "vfIuHuHa5Xpw",
        "outputId": "a4663d61-f9de-4a67-e673-f883352e1fcf"
      },
      "execution_count": 6,
      "outputs": [
        {
          "output_type": "stream",
          "name": "stdout",
          "text": [
            "Audio file 'input_audio.wav' generated.\n"
          ]
        }
      ]
    }
  ]
}